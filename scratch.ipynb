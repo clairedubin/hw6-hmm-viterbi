{
 "cells": [
  {
   "cell_type": "code",
   "execution_count": 20,
   "id": "87ed2686",
   "metadata": {},
   "outputs": [
    {
     "name": "stdout",
     "output_type": "stream",
     "text": [
      "The autoreload extension is already loaded. To reload it, use:\n",
      "  %reload_ext autoreload\n"
     ]
    }
   ],
   "source": [
    "%load_ext autoreload\n",
    "%autoreload 2\n",
    "from src.models import HiddenMarkovModel, ViterbiAlgorithm"
   ]
  },
  {
   "cell_type": "code",
   "execution_count": 263,
   "id": "18e9510b",
   "metadata": {},
   "outputs": [],
   "source": [
    "prior_probabilities=np.array([0.67, 0.33])\n",
    "transition_probabilities=np.array([[0.8, 0.2], \n",
    "                             [0.4, 0.6]]) \n",
    "emission_probabilities=np.array([[0.8, 0.2],\n",
    "                           [0.4, 0.6]])\n",
    "hidden_states = ['R01','R21']\n",
    "observation_states = ['committed', 'ambivalent']\n",
    "\n",
    "observation_states_dict = {observation_state: observation_state_index \\\n",
    "                                  for observation_state_index, observation_state in enumerate(list(observation_states))}\n",
    "\n",
    "hidden_states_dict = {hidden_state_index: hidden_state \\\n",
    "                                   for hidden_state_index, hidden_state in enumerate(list(hidden_states))}\n",
    "\n",
    "decode_observation_states=np.array(['committed', 'committed', 'ambivalent', 'ambivalent', 'ambivalent', 'committed'])\n",
    "correct_hidden_states=np.array(['R01','R01', 'R21', 'R21', 'R21', 'R01'])"
   ]
  },
  {
   "cell_type": "code",
   "execution_count": 282,
   "id": "106ab4e9",
   "metadata": {},
   "outputs": [
    {
     "name": "stdout",
     "output_type": "stream",
     "text": [
      "['R01', 'R01', 'R21', 'R21', 'R21', 'R01']\n"
     ]
    }
   ],
   "source": [
    "# Initialize path (i.e., np.arrays) to store the hidden sequence states returning the maximum probability\n",
    "path = np.zeros((len(decode_observation_states), \n",
    "             len(hidden_states)))\n",
    "path[0,:] = [hidden_state_index for hidden_state_index in range(len(hidden_states))]\n",
    "best_path = np.zeros((len(decode_observation_states), \n",
    "             len(hidden_states)))        \n",
    "\n",
    "# Compute initial delta:\n",
    "# 1. Calculate the product of the prior and emission probabilities. This will be used to decode the first observation state.\n",
    "# 2. Scale      \n",
    "\n",
    "first_obs_idx = observation_states_dict[decode_observation_states[0]]\n",
    "delta = prior_probabilities * emission_probabilities[:,first_obs_idx]\n",
    "# traceback = np.array([0,1])\n",
    "\n",
    "for node in range(1, len(decode_observation_states)):\n",
    "    \n",
    "    obs = decode_observation_states[node]\n",
    "    obs_idx = observation_states_dict[obs]\n",
    "    probs=[]\n",
    "    \n",
    "    for hidden_state_idx,hidden_state in enumerate(hidden_states):\n",
    "        \n",
    "        prob = delta[hidden_state_idx]*transition_probabilities[hidden_state_idx, :]*emission_probabilities[:, obs_idx]\n",
    "        probs += [prob]\n",
    "\n",
    "    prob_matrix = np.vstack([np.array(prob) for prob in probs])\n",
    "    delta = np.max(prob_matrix, axis=0)    \n",
    "    path[node] = np.argmax(prob_matrix, axis=0)\n",
    "    \n",
    "prev_idx = np.argmax(delta)\n",
    "prev_val = hidden_states_dict[prev_idx]\n",
    "best_path = [prev_val]\n",
    "        \n",
    "for i in range(1, path.shape[0])[::-1]:\n",
    "    \n",
    "    prev_idx = path[i, int(prev_idx)]\n",
    "    best_path = [hidden_states_dict[prev_idx]] + best_path\n",
    "    \n",
    "print(best_path)"
   ]
  },
  {
   "cell_type": "code",
   "execution_count": 283,
   "id": "d6732a22",
   "metadata": {},
   "outputs": [
    {
     "data": {
      "text/plain": [
       "array([ True,  True,  True,  True,  True,  True])"
      ]
     },
     "execution_count": 283,
     "metadata": {},
     "output_type": "execute_result"
    }
   ],
   "source": [
    "best_path == correct_hidden_states"
   ]
  },
  {
   "cell_type": "code",
   "execution_count": null,
   "id": "6e195c7a",
   "metadata": {},
   "outputs": [],
   "source": []
  }
 ],
 "metadata": {
  "kernelspec": {
   "display_name": "Python 3 (ipykernel)",
   "language": "python",
   "name": "python3"
  },
  "language_info": {
   "codemirror_mode": {
    "name": "ipython",
    "version": 3
   },
   "file_extension": ".py",
   "mimetype": "text/x-python",
   "name": "python",
   "nbconvert_exporter": "python",
   "pygments_lexer": "ipython3",
   "version": "3.9.13"
  }
 },
 "nbformat": 4,
 "nbformat_minor": 5
}
